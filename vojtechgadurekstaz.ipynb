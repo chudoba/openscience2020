{
 "cells": [
  {
   "cell_type": "markdown",
   "metadata": {},
   "source": [
    "<CENTER>\n",
    "    <a href=\"http://opendata.atlas.cern\" class=\"icons\"><img src=\"../Assets/ATLASOD.gif\" style=\"width:50%\"></a>\n",
    "</CENTER>"
   ]
  },
  {
   "cell_type": "markdown",
   "metadata": {},
   "source": [
    "# A more difficult notebook in python\n",
    "\n",
    "### In this notebook you can find a more difficult program that shows further high energy physics (HEP) analysis techniques.\n",
    "\n",
    "##### The following analysis is searching for events where [Z bosons](https://en.wikipedia.org/wiki/W_and_Z_bosons) decay to two leptons of same flavour and opposite charge (to be seen for example in the [Feynman diagram](https://en.wikipedia.org/wiki/Feynman_diagram))."
   ]
  },
  {
   "cell_type": "markdown",
   "metadata": {},
   "source": [
    "<CENTER><img src=\"../Assets/Z_ElectronPositron.png\" style=\"width:30%\"></CENTER>"
   ]
  },
  {
   "cell_type": "markdown",
   "metadata": {},
   "source": [
    "First of all - like we did it in the first notebook - ROOT is imported to read the files in the _.root_ data format."
   ]
  },
  {
   "cell_type": "code",
   "execution_count": 3,
   "metadata": {},
   "outputs": [
    {
     "name": "stdout",
     "output_type": "stream",
     "text": [
      "Welcome to JupyROOT 6.18/04\n"
     ]
    }
   ],
   "source": [
    "import ROOT"
   ]
  },
  {
   "cell_type": "markdown",
   "metadata": {},
   "source": [
    "In order to activate the interactive visualisation of the histogram that is later created we can use the JSROOT magic:"
   ]
  },
  {
   "cell_type": "code",
   "execution_count": 4,
   "metadata": {},
   "outputs": [],
   "source": [
    "%jsroot on"
   ]
  },
  {
   "cell_type": "markdown",
   "metadata": {},
   "source": [
    "Next we have to open the data that we want to analyze. As described above the data is stored in a _*.root_ file."
   ]
  },
  {
   "cell_type": "code",
   "execution_count": 5,
   "metadata": {},
   "outputs": [
    {
     "name": "stdout",
     "output_type": "stream",
     "text": [
      "--2020-07-23 15:15:22--  http://opendata.cern.ch/eos/opendata/atlas/OutreachDatasets/2020-01-22/4lep/MC/mc_307431.RS_G_ZZ_llll_c10_m0200.4lep.root\r\n",
      "Resolving opendata.cern.ch (opendata.cern.ch)... failed: Name or service not known.\r\n",
      "wget: unable to resolve host address ‘opendata.cern.ch’\r\n"
     ]
    }
   ],
   "source": [
    "!wget http://opendata.cern.ch/eos/opendata/atlas/OutreachDatasets/2020-01-22/4lep/MC/mc_307431.RS_G_ZZ_llll_c10_m0200.4lep.root"
   ]
  },
  {
   "cell_type": "code",
   "execution_count": 6,
   "metadata": {},
   "outputs": [
    {
     "name": "stdout",
     "output_type": "stream",
     "text": [
      "total 19528\n",
      "-rw-r--r-- 1 student student   28504 Jan 28 23:12 ATLAS_OpenData_01-cpp_Hyy_channel_analysis_example.ipynb\n",
      "-rw-r--r-- 1 student student   27309 Jan 28 23:10 ATLAS_OpenData_01-python_Hyy_channel_analysis_example.ipynb\n",
      "-rw-r--r-- 1 student student   15274 Jan 28 01:23 ATLAS_OpenData_01-simple_cpp_example_histogram.ipynb\n",
      "-rw-r--r-- 1 student student   24269 Mär 12 16:59 ATLAS_OpenData_02-simple_python_example_histogram.ipynb\n",
      "-rw-r--r-- 1 student student   16924 Jan 28 01:45 ATLAS_OpenData_03-cpp_invariant_mass_reconstruction_using_TLorentz_vectors.ipynb\n",
      "-rw-r--r-- 1 student student   24824 Jul 23 15:14 ATLAS_OpenData_04-python_invariant_mass_reconstruction_using_TLorentz_vectors.ipynb\n",
      "-rw-r--r-- 1 student student 3389717 Jan 28 01:49 ATLAS_OpenData_05-ccp_CSV_to_ROOT_ploting_example.ipynb\n",
      "-rw-r--r-- 1 student student   13694 Jan 28 01:50 ATLAS_OpenData_06-cpp_simple_cut_and_count_analysis_example.ipynb\n",
      "-rw-r--r-- 1 student student   38206 Mär 24 20:30 ATLAS_OpenData_07-python_simple_two_samples_comparison.ipynb\n",
      "-rw-r--r-- 1 student student   27959 Jan 28 01:55 ATLAS_OpenData_08-cpp_cut_and_count_analysis_example.ipynb\n",
      "-rw-r--r-- 1 student student 1451316 Jan 22  2020 mc_307431.RS_G_ZZ_llll_c10_m0200.4lep.root\n",
      "-rw-r--r-- 1 student student 1451316 Jan 22  2020 mc_307431.RS_G_ZZ_llll_c10_m0200.4lep.root.1\n",
      "-rw-r--r-- 1 student student 1451316 Jan 22  2020 mc_307431.RS_G_ZZ_llll_c10_m0200.4lep.root.2\n",
      "-rw-r--r-- 1 student student 8802904 Jan 15  2017 outreach.csv\n",
      "-rw-r--r-- 1 student student 3200862 Jan 28 01:48 outreach.root\n",
      "/home/student/GIT-REPOS/notebooks-repo-atlas-open-data/analysis-examples\n"
     ]
    }
   ],
   "source": [
    "!ls -l\n",
    "!pwd\n"
   ]
  },
  {
   "cell_type": "code",
   "execution_count": 7,
   "metadata": {},
   "outputs": [],
   "source": [
    "## Example of local file ##\n",
    "## f = ROOT.TFile.Open(\"/home/student/datasets/MC/mc_105986.ZZ.root\")\n",
    "## Example of remote file (URL) ##\n",
    "\n",
    "f = ROOT.TFile.Open(\"mc_307431.RS_G_ZZ_llll_c10_m0200.4lep.root\")\n",
    "## f = ROOT.TFile.Open(\"http://opendata.atlas.cern/release/samples/MC/mc_147770.Zee.root\")"
   ]
  },
  {
   "cell_type": "markdown",
   "metadata": {},
   "source": [
    "After the data is opened we create a canvas on which we can draw a histogram. If we do not have a canvas we cannot see our histogram at the end. Its name is _Canvas_ and its header is _c_. The two following arguments define the width and the height of the canvas."
   ]
  },
  {
   "cell_type": "code",
   "execution_count": 21,
   "metadata": {},
   "outputs": [
    {
     "name": "stderr",
     "output_type": "stream",
     "text": [
      "Warning in <TCanvas::Constructor>: Deleting canvas with same name: Canvas\n"
     ]
    }
   ],
   "source": [
    "canvas = ROOT.TCanvas(\"Canvas\",\"c\",800,600)"
   ]
  },
  {
   "cell_type": "markdown",
   "metadata": {},
   "source": [
    "The next step is to define a tree named _t_ to get the data out of the _.root_ file."
   ]
  },
  {
   "cell_type": "code",
   "execution_count": 9,
   "metadata": {},
   "outputs": [
    {
     "data": {
      "text/plain": [
       "4333"
      ]
     },
     "execution_count": 9,
     "metadata": {},
     "output_type": "execute_result"
    }
   ],
   "source": [
    "tree = f.Get(\"mini\")\n",
    "tree.GetEntries()\n",
    "\n",
    "\n"
   ]
  },
  {
   "cell_type": "markdown",
   "metadata": {},
   "source": [
    "Now we define a histogram that will later be placed on this canvas. Its name is _variable_, the header of the histogram is _Mass of the Z boson_, the x axis is named _mass [GeV]_ and the y axis is named _events_. The three following arguments indicate that this histogram contains 30 bins which have a range from 40 to 140."
   ]
  },
  {
   "cell_type": "code",
   "execution_count": 10,
   "metadata": {},
   "outputs": [],
   "source": [
    "hist = ROOT.TH1F(\"variable\",\"Mass of the Z boson; mass [GeV]; events\",30,40,140)"
   ]
  },
  {
   "cell_type": "markdown",
   "metadata": {},
   "source": [
    "Time to fill our above defined histogram. At first we define some variables and then we loop over the data. We also make some cuts as you can see in the # _comments_."
   ]
  },
  {
   "cell_type": "code",
   "execution_count": 51,
   "metadata": {},
   "outputs": [],
   "source": [
    "\n",
    "\n",
    "                "
   ]
  },
  {
   "cell_type": "code",
   "execution_count": 11,
   "metadata": {},
   "outputs": [],
   "source": [
    "def iterations(number_i):\n",
    "    counter = 0\n",
    "    sets = []\n",
    "    while counter < number_i:\n",
    "        counter2 = counter\n",
    "        while counter2 < number_i:\n",
    "            iteration = []\n",
    "            if counter == counter2:\n",
    "                counter2 = counter2 + 1\n",
    "            iteration.append(counter)\n",
    "            iteration.append(counter2)\n",
    "            counter2 = counter2 + 1\n",
    "            sets.append(iteration)\n",
    "        counter = counter +1\n",
    "    sets.pop()\n",
    "    return sets \n",
    "\n",
    "leadLepton  = ROOT.TLorentzVector()\n",
    "trailLepton = ROOT.TLorentzVector()\n",
    "combinations4 = iterations(4)\n",
    "def fndMass2lep(x, y):\n",
    "    if tree.lep_charge[x] != tree.lep_charge[y]:\n",
    "            \n",
    "                    if (tree.lep_type[x] == tree.lep_type[y]):\n",
    "\n",
    "                        # Let's define one TLorentz vector for each, e.i. two vectors!\n",
    "                        leadLepton.SetPtEtaPhiE(tree.lep_pt[x]/1000., tree.lep_eta[x], tree.lep_phi[x], tree.lep_E[x]/1000.)\n",
    "                        trailLepton.SetPtEtaPhiE(tree.lep_pt[y]/1000., tree.lep_eta[y], tree.lep_phi[y], tree.lep_E[y]/1000.)\n",
    "                        # Next line: addition of two TLorentz vectors above --> ask mass very easy (devide by 1000 to get value in GeV)\n",
    "                        invmass = leadLepton + trailLepton\n",
    "                        return invmass\n",
    "                    \n"
   ]
  },
  {
   "cell_type": "code",
   "execution_count": 12,
   "metadata": {},
   "outputs": [
    {
     "name": "stdout",
     "output_type": "stream",
     "text": [
      "[0, 1]\n"
     ]
    }
   ],
   "source": [
    "def findMissing(x,y):\n",
    "    numbers = [0,1,2,3]\n",
    "    numbers.remove(x)\n",
    "    numbers.remove(y)\n",
    "    return numbers\n",
    "print(findMissing(3,2))"
   ]
  },
  {
   "cell_type": "code",
   "execution_count": 18,
   "metadata": {},
   "outputs": [],
   "source": [
    "\n",
    "\n",
    "\n",
    "for event in tree:\n",
    "    if tree.lep_n >= 4:\n",
    "        problem = False\n",
    "        n_electrons = 0\n",
    "        for lepton in tree.lep_type:\n",
    "            if lepton == 11:\n",
    "                n_electrons = n_electrons + 1\n",
    "        if tree.lep_n == 4:\n",
    "            if n_electrons == 0 or n_electrons == 4:\n",
    "                problem = True\n",
    "        if tree.lep_n > 4:\n",
    "            problem == True\n",
    "            \n",
    "        if problem:\n",
    "            if tree.lep_n == 4:\n",
    "                counter_combination = 0\n",
    "                lepscom = []\n",
    "                lepscom_is_something = False\n",
    "                for combination in combinations4:\n",
    "                    if counter_combination < 3:\n",
    "                        x = combination[0]\n",
    "                        y = combination[1]\n",
    "                        invmass1 = fndMass2lep(x, y)\n",
    "                        counter_combination = counter_combination + 1\n",
    "                        if invmass1 is not None:\n",
    "                            other = findMissing(x, y)\n",
    "                            x2 = other[0]\n",
    "                            y2 = other[1]\n",
    "                            invmass2 = fndMass2lep(x, y)\n",
    "                            deviation = (90-invmass2.M()) * (90-invmass2.M()) + (90-invmass1.M()) * (90-invmass1.M())\n",
    "                            lepcom = {}\n",
    "                            lepcom[\"invmasscom\"] = [invmass2.M() , invmass1.M()]\n",
    "                            lepcom[\"deviation\"] = deviation\n",
    "                            lepscom.append(lepcom)\n",
    "                        counter_combination = counter_combination + 1\n",
    "                if len(lepscom) == 2:\n",
    "                    if lepscom[0][\"deviation\"] < lepscom[1][\"deviation\"]:\n",
    "                        for invmass in lepscom[0][\"invmasscom\"]:\n",
    "                            hist.Fill(invmass)\n",
    "                    else:\n",
    "                        for invmass in lepscom[1][\"invmasscom\"]:\n",
    "                            hist.Fill(invmass)\n",
    "\n",
    "           \n",
    "                        \n",
    "                        \n",
    "\n",
    "        if problem is not True:\n",
    "            for combination in combinations4:\n",
    "                x = combination[0]\n",
    "                y = combination[1]\n",
    "                invmass = fndMass2lep(x, y)\n",
    "                if invmass != None:\n",
    "                    hist.Fill(invmass.M())\n",
    "\n",
    "\n",
    "        \n",
    "                \n",
    "        \n",
    "        \n",
    "        \n",
    "            "
   ]
  },
  {
   "cell_type": "code",
   "execution_count": 16,
   "metadata": {},
   "outputs": [],
   "source": []
  },
  {
   "cell_type": "code",
   "execution_count": 41,
   "metadata": {},
   "outputs": [
    {
     "name": "stdout",
     "output_type": "stream",
     "text": [
      "[[0, 1], [0, 2], [0, 3], [1, 2], [1, 3], [2, 3]]\n"
     ]
    }
   ],
   "source": [
    "p = iterations(4)\n",
    "print(p)"
   ]
  },
  {
   "cell_type": "markdown",
   "metadata": {},
   "source": [
    "After filling the histogram we want to see the results of the analysis. First we draw the histogram on the canvas and then the canvas on which the histogram lies."
   ]
  },
  {
   "cell_type": "code",
   "execution_count": 19,
   "metadata": {},
   "outputs": [],
   "source": [
    "hist.Draw()\n"
   ]
  },
  {
   "cell_type": "code",
   "execution_count": 20,
   "metadata": {},
   "outputs": [
    {
     "data": {
      "text/html": [
       "\n",
       "<div id=\"root_plot_2\"\n",
       "     style=\"width: 796px; height: 572px\">\n",
       "</div>\n",
       "\n",
       "<script>\n",
       " requirejs.config({\n",
       "     paths: {\n",
       "       'JSRootCore' : 'https://root.cern.ch/js/notebook//scripts/JSRootCore',\n",
       "     }\n",
       "   });\n",
       " require(['JSRootCore'],\n",
       "     function(Core) {\n",
       "       var obj = Core.JSONR_unref({\"_typename\":\"TCanvas\",\"fUniqueID\":0,\"fBits\":53673992,\"fLineColor\":1,\"fLineStyle\":1,\"fLineWidth\":1,\"fFillColor\":0,\"fFillStyle\":1001,\"fLeftMargin\":0.1,\"fRightMargin\":0.1,\"fBottomMargin\":0.1,\"fTopMargin\":0.1,\"fXfile\":2,\"fYfile\":2,\"fAfile\":1,\"fXstat\":0.99,\"fYstat\":0.99,\"fAstat\":2,\"fFrameFillColor\":0,\"fFrameLineColor\":1,\"fFrameFillStyle\":1001,\"fFrameLineStyle\":1,\"fFrameLineWidth\":1,\"fFrameBorderSize\":1,\"fFrameBorderMode\":0,\"fX1\":27.4999990686774,\"fY1\":-807.318810149938,\"fX2\":152.500000931323,\"fY2\":7265.86881014994,\"fXtoAbsPixelk\":-175.119941459846,\"fXtoPixelk\":-175.119941459846,\"fXtoPixel\":6.3679999051094,\"fYtoAbsPixelk\":514.800046590614,\"fYtoPixelk\":514.800046590614,\"fYtoPixel\":-0.0708518155284434,\"fUtoAbsPixelk\":5e-5,\"fUtoPixelk\":5e-5,\"fUtoPixel\":796,\"fVtoAbsPixelk\":572.00005,\"fVtoPixelk\":572,\"fVtoPixel\":-572,\"fAbsPixeltoXk\":27.4999990686774,\"fPixeltoXk\":27.4999990686774,\"fPixeltoX\":0.157035178219404,\"fAbsPixeltoYk\":7265.86881014994,\"fPixeltoYk\":-807.318810149938,\"fPixeltoY\":-14.1139643711536,\"fXlowNDC\":0,\"fYlowNDC\":0,\"fXUpNDC\":0,\"fYUpNDC\":0,\"fWNDC\":1,\"fHNDC\":1,\"fAbsXlowNDC\":0,\"fAbsYlowNDC\":0,\"fAbsWNDC\":1,\"fAbsHNDC\":1,\"fUxmin\":40,\"fUymin\":0,\"fUxmax\":140,\"fUymax\":6458.55,\"fTheta\":30,\"fPhi\":30,\"fAspectRatio\":0,\"fNumber\":0,\"fTickx\":0,\"fTicky\":0,\"fLogx\":0,\"fLogy\":0,\"fLogz\":0,\"fPadPaint\":0,\"fCrosshair\":0,\"fCrosshairPos\":0,\"fBorderSize\":2,\"fBorderMode\":0,\"fModified\":false,\"fGridx\":false,\"fGridy\":false,\"fAbsCoord\":false,\"fEditable\":true,\"fFixedAspectRatio\":false,\"fPrimitives\":{\"_typename\":\"TList\",\"name\":\"TList\",\"arr\":[{\"_typename\":\"TFrame\",\"fUniqueID\":0,\"fBits\":50331656,\"fLineColor\":1,\"fLineStyle\":1,\"fLineWidth\":1,\"fFillColor\":0,\"fFillStyle\":1001,\"fX1\":40,\"fY1\":0,\"fX2\":140,\"fY2\":6458.55,\"fBorderSize\":1,\"fBorderMode\":0},{\"_typename\":\"TH1F\",\"fUniqueID\":0,\"fBits\":50331656,\"fName\":\"variable\",\"fTitle\":\"Mass of the Z boson\",\"fLineColor\":602,\"fLineStyle\":1,\"fLineWidth\":1,\"fFillColor\":0,\"fFillStyle\":1001,\"fMarkerColor\":1,\"fMarkerStyle\":1,\"fMarkerSize\":1,\"fNcells\":32,\"fXaxis\":{\"_typename\":\"TAxis\",\"fUniqueID\":0,\"fBits\":50331648,\"fName\":\"xaxis\",\"fTitle\":\" mass [GeV]\",\"fNdivisions\":510,\"fAxisColor\":1,\"fLabelColor\":1,\"fLabelFont\":42,\"fLabelOffset\":0.005,\"fLabelSize\":0.035,\"fTickLength\":0.03,\"fTitleOffset\":1,\"fTitleSize\":0.035,\"fTitleColor\":1,\"fTitleFont\":42,\"fNbins\":30,\"fXmin\":40,\"fXmax\":140,\"fXbins\":[],\"fFirst\":0,\"fLast\":0,\"fBits2\":0,\"fTimeDisplay\":false,\"fTimeFormat\":\"\",\"fLabels\":null,\"fModLabs\":null},\"fYaxis\":{\"_typename\":\"TAxis\",\"fUniqueID\":0,\"fBits\":50331648,\"fName\":\"yaxis\",\"fTitle\":\" events\",\"fNdivisions\":510,\"fAxisColor\":1,\"fLabelColor\":1,\"fLabelFont\":42,\"fLabelOffset\":0.005,\"fLabelSize\":0.035,\"fTickLength\":0.03,\"fTitleOffset\":0,\"fTitleSize\":0.035,\"fTitleColor\":1,\"fTitleFont\":42,\"fNbins\":1,\"fXmin\":0,\"fXmax\":1,\"fXbins\":[],\"fFirst\":0,\"fLast\":0,\"fBits2\":0,\"fTimeDisplay\":false,\"fTimeFormat\":\"\",\"fLabels\":null,\"fModLabs\":null},\"fZaxis\":{\"_typename\":\"TAxis\",\"fUniqueID\":0,\"fBits\":50331648,\"fName\":\"zaxis\",\"fTitle\":\"\",\"fNdivisions\":510,\"fAxisColor\":1,\"fLabelColor\":1,\"fLabelFont\":42,\"fLabelOffset\":0.005,\"fLabelSize\":0.035,\"fTickLength\":0.03,\"fTitleOffset\":1,\"fTitleSize\":0.035,\"fTitleColor\":1,\"fTitleFont\":42,\"fNbins\":1,\"fXmin\":0,\"fXmax\":1,\"fXbins\":[],\"fFirst\":0,\"fLast\":0,\"fBits2\":0,\"fTimeDisplay\":false,\"fTimeFormat\":\"\",\"fLabels\":null,\"fModLabs\":null},\"fBarOffset\":0,\"fBarWidth\":1000,\"fEntries\":18116,\"fTsumw\":17870,\"fTsumw2\":17870,\"fTsumwx\":1579078.86309443,\"fTsumwx2\":140766660.060317,\"fMaximum\":-1111,\"fMinimum\":-1111,\"fNormFactor\":0,\"fContour\":[],\"fSumw2\":[],\"fOption\":\"\",\"fFunctions\":{\"_typename\":\"TList\",\"name\":\"TList\",\"arr\":[{\"_typename\":\"TPaveStats\",\"fUniqueID\":0,\"fBits\":50331657,\"fLineColor\":1,\"fLineStyle\":1,\"fLineWidth\":1,\"fFillColor\":0,\"fFillStyle\":1001,\"fX1\":125.000002533197,\"fY1\":5449.40164370241,\"fX2\":150.000003278256,\"fY2\":6741.11163407843,\"fX1NDC\":0.780000016093254,\"fY1NDC\":0.775000005960464,\"fX2NDC\":0.980000019073486,\"fY2NDC\":0.935000002384186,\"fBorderSize\":1,\"fInit\":1,\"fShadowColor\":1,\"fCornerRadius\":0,\"fOption\":\"brNDC\",\"fName\":\"stats\",\"fTextAngle\":0,\"fTextSize\":0,\"fTextAlign\":12,\"fTextColor\":1,\"fTextFont\":42,\"fLabel\":\"\",\"fLongest\":18,\"fMargin\":0.05,\"fLines\":{\"_typename\":\"TList\",\"name\":\"TList\",\"arr\":[{\"_typename\":\"TLatex\",\"fUniqueID\":0,\"fBits\":50331648,\"fName\":\"\",\"fTitle\":\"variable\",\"fTextAngle\":0,\"fTextSize\":0.0368,\"fTextAlign\":0,\"fTextColor\":0,\"fTextFont\":0,\"fX\":0,\"fY\":0,\"fLineColor\":1,\"fLineStyle\":1,\"fLineWidth\":2,\"fLimitFactorSize\":3,\"fOriginSize\":0.0368000008165836},{\"_typename\":\"TLatex\",\"fUniqueID\":0,\"fBits\":50331648,\"fName\":\"\",\"fTitle\":\"Entries = 18116  \",\"fTextAngle\":0,\"fTextSize\":0,\"fTextAlign\":0,\"fTextColor\":0,\"fTextFont\":0,\"fX\":0,\"fY\":0,\"fLineColor\":1,\"fLineStyle\":1,\"fLineWidth\":2,\"fLimitFactorSize\":3,\"fOriginSize\":0.04},{\"_typename\":\"TLatex\",\"fUniqueID\":0,\"fBits\":50331648,\"fName\":\"\",\"fTitle\":\"Mean  =  88.36\",\"fTextAngle\":0,\"fTextSize\":0,\"fTextAlign\":0,\"fTextColor\":0,\"fTextFont\":0,\"fX\":0,\"fY\":0,\"fLineColor\":1,\"fLineStyle\":1,\"fLineWidth\":2,\"fLimitFactorSize\":3,\"fOriginSize\":0.04},{\"_typename\":\"TLatex\",\"fUniqueID\":0,\"fBits\":50331648,\"fName\":\"\",\"fTitle\":\"Std Dev   =  8.302\",\"fTextAngle\":0,\"fTextSize\":0,\"fTextAlign\":0,\"fTextColor\":0,\"fTextFont\":0,\"fX\":0,\"fY\":0,\"fLineColor\":1,\"fLineStyle\":1,\"fLineWidth\":2,\"fLimitFactorSize\":3,\"fOriginSize\":0.04}],\"opt\":[\"\",\"\",\"\",\"\"]},\"fOptFit\":0,\"fOptStat\":1111,\"fFitFormat\":\"5.4g\",\"fStatFormat\":\"6.4g\",\"fParent\":{\"$ref\":3}}],\"opt\":[\"brNDC\"]},\"fBufferSize\":0,\"fBuffer\":[],\"fBinStatErrOpt\":0,\"fStatOverflows\":2,\"fArray\":[246,60,42,57,45,90,105,93,90,165,141,283,402,825,1755,4770,6151,1989,450,159,99,45,24,6,9,6,0,0,6,3,0,0]},{\"_typename\":\"TPaveText\",\"fUniqueID\":0,\"fBits\":50331657,\"fLineColor\":1,\"fLineStyle\":1,\"fLineWidth\":1,\"fFillColor\":0,\"fFillStyle\":0,\"fX1\":66.8435926197668,\"fY1\":6781.47758481141,\"fX2\":113.156407380233,\"fY2\":7225.5029105444,\"fX1NDC\":0.314748743718593,\"fY1NDC\":0.940000003948808,\"fX2NDC\":0.685251256281407,\"fY2NDC\":0.995000004768372,\"fBorderSize\":0,\"fInit\":1,\"fShadowColor\":1,\"fCornerRadius\":0,\"fOption\":\"blNDC\",\"fName\":\"title\",\"fTextAngle\":0,\"fTextSize\":0,\"fTextAlign\":22,\"fTextColor\":1,\"fTextFont\":42,\"fLabel\":\"\",\"fLongest\":19,\"fMargin\":0.05,\"fLines\":{\"_typename\":\"TList\",\"name\":\"TList\",\"arr\":[{\"_typename\":\"TLatex\",\"fUniqueID\":0,\"fBits\":50331648,\"fName\":\"\",\"fTitle\":\"Mass of the Z boson\",\"fTextAngle\":0,\"fTextSize\":0,\"fTextAlign\":0,\"fTextColor\":0,\"fTextFont\":0,\"fX\":0,\"fY\":0,\"fLineColor\":1,\"fLineStyle\":1,\"fLineWidth\":2,\"fLimitFactorSize\":3,\"fOriginSize\":0.0467500016093254}],\"opt\":[\"\"]}}],\"opt\":[\"\",\"\",\"blNDC\"]},\"fExecs\":null,\"fName\":\"Canvas\",\"fTitle\":\"c\",\"fNumPaletteColor\":0,\"fNextPaletteColor\":0,\"fDISPLAY\":\"$DISPLAY\",\"fDoubleBuffer\":0,\"fRetained\":true,\"fXsizeUser\":0,\"fYsizeUser\":0,\"fXsizeReal\":20,\"fYsizeReal\":15,\"fWindowTopX\":0,\"fWindowTopY\":0,\"fWindowWidth\":0,\"fWindowHeight\":0,\"fCw\":796,\"fCh\":572,\"fCatt\":{\"_typename\":\"TAttCanvas\",\"fXBetween\":2,\"fYBetween\":2,\"fTitleFromTop\":1.2,\"fXdate\":0.2,\"fYdate\":0.3,\"fAdate\":1},\"kMoveOpaque\":true,\"kResizeOpaque\":true,\"fHighLightColor\":2,\"fBatch\":true,\"kShowEventStatus\":false,\"kAutoExec\":true,\"kMenuBar\":true});\n",
       "       Core.draw(\"root_plot_2\", obj, \"\");\n",
       "     }\n",
       " );\n",
       "</script>\n"
      ],
      "text/plain": [
       "<IPython.core.display.HTML object>"
      ]
     },
     "metadata": {},
     "output_type": "display_data"
    }
   ],
   "source": [
    "canvas.Draw()"
   ]
  },
  {
   "cell_type": "markdown",
   "metadata": {},
   "source": [
    "**Done!**"
   ]
  }
 ],
 "metadata": {
  "kernelspec": {
   "display_name": "Python 3",
   "language": "python",
   "name": "python3"
  },
  "language_info": {
   "codemirror_mode": {
    "name": "ipython",
    "version": 3
   },
   "file_extension": ".py",
   "mimetype": "text/x-python",
   "name": "python",
   "nbconvert_exporter": "python",
   "pygments_lexer": "ipython3",
   "version": "3.6.9"
  }
 },
 "nbformat": 4,
 "nbformat_minor": 2
}
